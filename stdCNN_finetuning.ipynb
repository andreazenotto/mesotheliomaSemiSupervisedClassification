{
 "cells": [
  {
   "cell_type": "code",
   "execution_count": null,
   "id": "4dfa7e74",
   "metadata": {
    "execution": {
     "iopub.execute_input": "2025-07-14T12:39:40.943251Z",
     "iopub.status.busy": "2025-07-14T12:39:40.942991Z",
     "iopub.status.idle": "2025-07-14T12:39:41.596179Z",
     "shell.execute_reply": "2025-07-14T12:39:41.595425Z"
    },
    "papermill": {
     "duration": 0.658054,
     "end_time": "2025-07-14T12:39:41.597717",
     "exception": false,
     "start_time": "2025-07-14T12:39:40.939663",
     "status": "completed"
    },
    "tags": []
   },
   "outputs": [],
   "source": [
    "!git clone https://github.com/andreazenotto/mesotheliomaSemiSupervisedClassification.git"
   ]
  },
  {
   "cell_type": "code",
   "execution_count": null,
   "id": "bd88bfd2",
   "metadata": {
    "execution": {
     "iopub.execute_input": "2025-07-14T12:39:41.606142Z",
     "iopub.status.busy": "2025-07-14T12:39:41.605820Z",
     "iopub.status.idle": "2025-07-14T12:39:57.308730Z",
     "shell.execute_reply": "2025-07-14T12:39:57.307489Z"
    },
    "papermill": {
     "duration": 15.709327,
     "end_time": "2025-07-14T12:39:57.311076",
     "exception": false,
     "start_time": "2025-07-14T12:39:41.601749",
     "status": "completed"
    },
    "tags": []
   },
   "outputs": [],
   "source": [
    "import os\n",
    "from tqdm import tqdm\n",
    "import sys\n",
    "import shutil\n",
    "import numpy as np\n",
    "import tensorflow as tf\n",
    "\n",
    "from tensorflow.keras.applications.resnet50 import (\n",
    "    ResNet50,\n",
    "    preprocess_input,\n",
    ")\n",
    "\n",
    "sys.path.append('mesotheliomaSemiSupervisedClassification/src')\n",
    "\n",
    "from simclr import *\n",
    "from attention_mil import *"
   ]
  },
  {
   "cell_type": "code",
   "execution_count": 3,
   "id": "9715a7d1",
   "metadata": {
    "execution": {
     "iopub.execute_input": "2025-07-14T12:39:57.322208Z",
     "iopub.status.busy": "2025-07-14T12:39:57.321619Z",
     "iopub.status.idle": "2025-07-14T12:39:57.326224Z",
     "shell.execute_reply": "2025-07-14T12:39:57.325488Z"
    },
    "papermill": {
     "duration": 0.010966,
     "end_time": "2025-07-14T12:39:57.327543",
     "exception": false,
     "start_time": "2025-07-14T12:39:57.316577",
     "status": "completed"
    },
    "tags": []
   },
   "outputs": [],
   "source": [
    "patches_dir = \"/kaggle/input/camel-dataset\""
   ]
  },
  {
   "cell_type": "markdown",
   "id": "9bcbbe18",
   "metadata": {
    "papermill": {
     "duration": 0.003282,
     "end_time": "2025-07-14T12:39:57.335665",
     "exception": false,
     "start_time": "2025-07-14T12:39:57.332383",
     "status": "completed"
    },
    "tags": []
   },
   "source": [
    "## Training"
   ]
  },
  {
   "cell_type": "code",
   "execution_count": null,
   "id": "e4577c2b",
   "metadata": {
    "execution": {
     "iopub.execute_input": "2025-07-14T12:39:57.343400Z",
     "iopub.status.busy": "2025-07-14T12:39:57.343128Z",
     "iopub.status.idle": "2025-07-14T12:39:57.352203Z",
     "shell.execute_reply": "2025-07-14T12:39:57.351158Z"
    },
    "papermill": {
     "duration": 0.014816,
     "end_time": "2025-07-14T12:39:57.353533",
     "exception": false,
     "start_time": "2025-07-14T12:39:57.338717",
     "status": "completed"
    },
    "tags": []
   },
   "outputs": [],
   "source": [
    "def get_patch_dataset(patches_dir):\n",
    "    images = []\n",
    "    labels = []\n",
    "\n",
    "    mapping = {\n",
    "        \"epithelioid\": [1, 0, 0],\n",
    "        \"sarcomatoid\": [0, 1, 0],\n",
    "        \"biphasic\": [0, 0, 1]\n",
    "    }\n",
    "\n",
    "    for class_dir in os.listdir(patches_dir):\n",
    "        class_path = os.path.join(patches_dir, class_dir)\n",
    "        class_name = class_dir.split('_')[1].lower()\n",
    "        if os.path.isdir(class_path):\n",
    "            for wsi_dir in os.listdir(class_path):\n",
    "                wsi_path = os.path.join(class_path, wsi_dir)\n",
    "                if os.path.isdir(wsi_path):\n",
    "                    for img_name in os.listdir(wsi_path):\n",
    "                        img_path = os.path.join(wsi_path, img_name)\n",
    "                        images.append(img_path)\n",
    "                        labels.append(mapping[class_name])\n",
    "\n",
    "    return images, labels\n",
    "\n",
    "\n",
    "def build_dataset(image_paths, labels, batch_size=128, shuffle=True):\n",
    "    path_ds = tf.data.Dataset.from_tensor_slices((image_paths, labels))\n",
    "    ds = path_ds.map(lambda x, y: (load_and_augment(x), y), num_parallel_calls=tf.data.AUTOTUNE)\n",
    "    if shuffle:\n",
    "        ds = ds.shuffle(buffer_size=1000)\n",
    "    ds = ds.batch(batch_size).prefetch(tf.data.AUTOTUNE)\n",
    "    return ds\n",
    "\n",
    "\n",
    "def build_model():\n",
    "    backbone = ResNet50(include_top=False, weights='imagenet', pooling='avg')\n",
    "    \n",
    "    classifier = tf.keras.models.Sequential([\n",
    "        tf.keras.layers.Input(shape=(2048,)),\n",
    "        tf.keras.layers.Dense(128, activation='relu'),\n",
    "        tf.keras.layers.Dense(3, activation='softmax')\n",
    "    ])\n",
    "    \n",
    "    inputs = tf.keras.layers.Input(shape=(224, 224, 3))\n",
    "    features = backbone(inputs, training=False)\n",
    "    outputs = classifier(features)\n",
    "    model = tf.keras.models.Model(inputs=inputs, outputs=outputs)\n",
    "    return model"
   ]
  },
  {
   "cell_type": "code",
   "execution_count": 5,
   "id": "a4252709",
   "metadata": {
    "execution": {
     "iopub.execute_input": "2025-07-14T12:39:57.360071Z",
     "iopub.status.busy": "2025-07-14T12:39:57.359829Z",
     "iopub.status.idle": "2025-07-14T18:27:17.702147Z",
     "shell.execute_reply": "2025-07-14T18:27:17.701497Z"
    },
    "papermill": {
     "duration": 20840.346609,
     "end_time": "2025-07-14T18:27:17.703549",
     "exception": false,
     "start_time": "2025-07-14T12:39:57.356940",
     "status": "completed"
    },
    "tags": []
   },
   "outputs": [
    {
     "name": "stderr",
     "output_type": "stream",
     "text": [
      "I0000 00:00:1752496800.955263      19 gpu_device.cc:2022] Created device /job:localhost/replica:0/task:0/device:GPU:0 with 13942 MB memory:  -> device: 0, name: Tesla T4, pci bus id: 0000:00:04.0, compute capability: 7.5\n",
      "I0000 00:00:1752496800.955966      19 gpu_device.cc:2022] Created device /job:localhost/replica:0/task:0/device:GPU:1 with 13942 MB memory:  -> device: 1, name: Tesla T4, pci bus id: 0000:00:05.0, compute capability: 7.5\n"
     ]
    },
    {
     "name": "stdout",
     "output_type": "stream",
     "text": [
      "Downloading data from https://storage.googleapis.com/tensorflow/keras-applications/resnet/resnet50_weights_tf_dim_ordering_tf_kernels_notop.h5\n",
      "\u001b[1m94765736/94765736\u001b[0m \u001b[32m━━━━━━━━━━━━━━━━━━━━\u001b[0m\u001b[37m\u001b[0m \u001b[1m0s\u001b[0m 0us/step\n",
      "Epoch 1/10\n"
     ]
    },
    {
     "name": "stderr",
     "output_type": "stream",
     "text": [
      "I0000 00:00:1752496868.825953      71 cuda_dnn.cc:529] Loaded cuDNN version 90300\n"
     ]
    },
    {
     "name": "stdout",
     "output_type": "stream",
     "text": [
      "\u001b[1m854/854\u001b[0m \u001b[32m━━━━━━━━━━━━━━━━━━━━\u001b[0m\u001b[37m\u001b[0m \u001b[1m2143s\u001b[0m 2s/step - accuracy: 0.9956 - loss: 0.0359\n",
      "Epoch 2/10\n",
      "\u001b[1m854/854\u001b[0m \u001b[32m━━━━━━━━━━━━━━━━━━━━\u001b[0m\u001b[37m\u001b[0m \u001b[1m2091s\u001b[0m 2s/step - accuracy: 0.9475 - loss: 0.3666\n",
      "Epoch 3/10\n",
      "\u001b[1m854/854\u001b[0m \u001b[32m━━━━━━━━━━━━━━━━━━━━\u001b[0m\u001b[37m\u001b[0m \u001b[1m2079s\u001b[0m 2s/step - accuracy: 0.9365 - loss: 0.3536\n",
      "Epoch 4/10\n",
      "\u001b[1m854/854\u001b[0m \u001b[32m━━━━━━━━━━━━━━━━━━━━\u001b[0m\u001b[37m\u001b[0m \u001b[1m2077s\u001b[0m 2s/step - accuracy: 0.9020 - loss: 0.3497\n",
      "Epoch 5/10\n",
      "\u001b[1m854/854\u001b[0m \u001b[32m━━━━━━━━━━━━━━━━━━━━\u001b[0m\u001b[37m\u001b[0m \u001b[1m2080s\u001b[0m 2s/step - accuracy: 0.8947 - loss: 0.4110\n",
      "Epoch 6/10\n",
      "\u001b[1m854/854\u001b[0m \u001b[32m━━━━━━━━━━━━━━━━━━━━\u001b[0m\u001b[37m\u001b[0m \u001b[1m2079s\u001b[0m 2s/step - accuracy: 0.8675 - loss: 0.4361\n",
      "Epoch 7/10\n",
      "\u001b[1m854/854\u001b[0m \u001b[32m━━━━━━━━━━━━━━━━━━━━\u001b[0m\u001b[37m\u001b[0m \u001b[1m2073s\u001b[0m 2s/step - accuracy: 0.9244 - loss: 0.3883\n",
      "Epoch 8/10\n",
      "\u001b[1m854/854\u001b[0m \u001b[32m━━━━━━━━━━━━━━━━━━━━\u001b[0m\u001b[37m\u001b[0m \u001b[1m2069s\u001b[0m 2s/step - accuracy: 0.9049 - loss: 0.3752\n",
      "Epoch 9/10\n",
      "\u001b[1m854/854\u001b[0m \u001b[32m━━━━━━━━━━━━━━━━━━━━\u001b[0m\u001b[37m\u001b[0m \u001b[1m2061s\u001b[0m 2s/step - accuracy: 0.9487 - loss: 0.3084\n",
      "Epoch 10/10\n",
      "\u001b[1m854/854\u001b[0m \u001b[32m━━━━━━━━━━━━━━━━━━━━\u001b[0m\u001b[37m\u001b[0m \u001b[1m2078s\u001b[0m 2s/step - accuracy: 0.8862 - loss: 0.4114\n"
     ]
    }
   ],
   "source": [
    "image_paths, labels = get_patch_dataset(patches_dir)\n",
    "train_ds = build_dataset(image_paths, labels)\n",
    "\n",
    "model = build_model()\n",
    "\n",
    "model.compile(\n",
    "    optimizer=tf.keras.optimizers.AdamW(learning_rate=1e-4, weight_decay=1e-5),\n",
    "    loss='categorical_crossentropy',\n",
    "    metrics=['accuracy']\n",
    ")\n",
    "\n",
    "model.fit(train_ds, epochs=10)\n",
    "\n",
    "model.save(\"resnet_classifier.keras\")"
   ]
  },
  {
   "cell_type": "markdown",
   "id": "019e5580",
   "metadata": {
    "papermill": {
     "duration": 0.339083,
     "end_time": "2025-07-14T18:27:18.388742",
     "exception": false,
     "start_time": "2025-07-14T18:27:18.049659",
     "status": "completed"
    },
    "tags": []
   },
   "source": [
    "## Inference"
   ]
  },
  {
   "cell_type": "code",
   "execution_count": null,
   "id": "b228a632",
   "metadata": {
    "execution": {
     "iopub.execute_input": "2025-07-14T18:27:19.141282Z",
     "iopub.status.busy": "2025-07-14T18:27:19.140993Z",
     "iopub.status.idle": "2025-07-14T18:27:19.149147Z",
     "shell.execute_reply": "2025-07-14T18:27:19.148435Z"
    },
    "papermill": {
     "duration": 0.42122,
     "end_time": "2025-07-14T18:27:19.150331",
     "exception": false,
     "start_time": "2025-07-14T18:27:18.729111",
     "status": "completed"
    },
    "tags": []
   },
   "outputs": [],
   "source": [
    "def classify_wsi(patches_dir, model_dir=None, batch_size=256):\n",
    "    if model_dir:\n",
    "        model = tf.keras.models.load_model(model_dir)\n",
    "    else:\n",
    "        model = build_model()\n",
    "    wsi_list, labels = get_images(patches_dir)\n",
    "    y_pred = []\n",
    "    y_score = []\n",
    "    y_true = []\n",
    "\n",
    "    strategy = tf.distribute.MirroredStrategy()\n",
    "\n",
    "    with strategy.scope():\n",
    "        @tf.function\n",
    "        def predict_step(batch):\n",
    "            return model(batch, training=False)\n",
    "\n",
    "        for wsi_images, label in tqdm(zip(wsi_list, labels), total=len(wsi_list), desc=\"Classifying WSIs\"):\n",
    "            preds_list = []\n",
    "\n",
    "            path_ds = tf.data.Dataset.from_tensor_slices(wsi_images)\n",
    "            image_ds = path_ds.map(load_and_augment, num_parallel_calls=tf.data.AUTOTUNE)\n",
    "            image_ds = image_ds.batch(batch_size).prefetch(tf.data.AUTOTUNE)\n",
    "\n",
    "            dist_ds = strategy.experimental_distribute_dataset(image_ds)\n",
    "\n",
    "            for dist_batch in dist_ds:\n",
    "                per_replica_preds = strategy.run(predict_step, args=(dist_batch,))\n",
    "                batch_preds = tf.concat(strategy.gather(per_replica_preds, axis=0), axis=0)\n",
    "                preds_list.extend(batch_preds.numpy())\n",
    "\n",
    "            preds_array = np.array(preds_list)\n",
    "\n",
    "            avg_score = np.mean(preds_array, axis=0)\n",
    "            pred_class = np.argmax(avg_score)\n",
    "            true_class = np.argmax(label)\n",
    "            \n",
    "            y_pred.append(pred_class)\n",
    "            y_true.append(true_class)\n",
    "\n",
    "    return np.array(y_pred), np.array(y_true)"
   ]
  },
  {
   "cell_type": "code",
   "execution_count": 7,
   "id": "f96de556",
   "metadata": {
    "execution": {
     "iopub.execute_input": "2025-07-14T18:27:19.824638Z",
     "iopub.status.busy": "2025-07-14T18:27:19.823909Z",
     "iopub.status.idle": "2025-07-14T18:31:34.522135Z",
     "shell.execute_reply": "2025-07-14T18:31:34.521423Z"
    },
    "papermill": {
     "duration": 255.373558,
     "end_time": "2025-07-14T18:31:34.860175",
     "exception": false,
     "start_time": "2025-07-14T18:27:19.486617",
     "status": "completed"
    },
    "tags": []
   },
   "outputs": [
    {
     "name": "stderr",
     "output_type": "stream",
     "text": [
      "Processing epithelioid: 100%|██████████| 4/4 [00:00<00:00,  8.68it/s]\n",
      "Processing biphasic: 100%|██████████| 4/4 [00:00<00:00, 14.74it/s]\n",
      "Classifying WSIs:   0%|          | 0/8 [00:00<?, ?it/s]I0000 00:00:1752517651.355594      70 cuda_dnn.cc:529] Loaded cuDNN version 90300\n",
      "Classifying WSIs: 100%|██████████| 8/8 [04:11<00:00, 31.46s/it]"
     ]
    },
    {
     "name": "stdout",
     "output_type": "stream",
     "text": [
      "Accuracy: 50.00%\n"
     ]
    },
    {
     "name": "stderr",
     "output_type": "stream",
     "text": [
      "\n"
     ]
    }
   ],
   "source": [
    "test_patches_dir = \"/kaggle/input/camel-inference-dataset\"\n",
    "model_dir = \"resnet_classifier.keras\"\n",
    "\n",
    "y_pred, y_true = classify_wsi(test_patches_dir, model_dir)\n",
    "\n",
    "correct = np.sum(y_pred == y_true)\n",
    "\n",
    "print(f\"Accuracy: {correct/len(y_pred):.2%}\")"
   ]
  }
 ],
 "metadata": {
  "kaggle": {
   "accelerator": "nvidiaTeslaT4",
   "dataSources": [
    {
     "datasetId": 7442459,
     "sourceId": 12401004,
     "sourceType": "datasetVersion"
    },
    {
     "datasetId": 7796456,
     "sourceId": 12401242,
     "sourceType": "datasetVersion"
    }
   ],
   "dockerImageVersionId": 31090,
   "isGpuEnabled": true,
   "isInternetEnabled": true,
   "language": "python",
   "sourceType": "notebook"
  },
  "kernelspec": {
   "display_name": "Python 3",
   "language": "python",
   "name": "python3"
  },
  "language_info": {
   "codemirror_mode": {
    "name": "ipython",
    "version": 3
   },
   "file_extension": ".py",
   "mimetype": "text/x-python",
   "name": "python",
   "nbconvert_exporter": "python",
   "pygments_lexer": "ipython3",
   "version": "3.11.13"
  },
  "papermill": {
   "default_parameters": {},
   "duration": 21122.525405,
   "end_time": "2025-07-14T18:31:39.299589",
   "environment_variables": {},
   "exception": null,
   "input_path": "__notebook__.ipynb",
   "output_path": "__notebook__.ipynb",
   "parameters": {},
   "start_time": "2025-07-14T12:39:36.774184",
   "version": "2.6.0"
  }
 },
 "nbformat": 4,
 "nbformat_minor": 5
}
