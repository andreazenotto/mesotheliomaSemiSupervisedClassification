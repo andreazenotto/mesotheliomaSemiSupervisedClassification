{
 "cells": [
  {
   "cell_type": "code",
   "execution_count": null,
   "metadata": {},
   "outputs": [],
   "source": [
    "!git clone https://github.com/andreazenotto/mesotheliomaSemiSupervisedClassification.git"
   ]
  },
  {
   "cell_type": "code",
   "execution_count": null,
   "metadata": {
    "id": "ce9e789b",
    "trusted": true
   },
   "outputs": [],
   "source": [
    "import os\n",
    "from tqdm import tqdm\n",
    "import sys\n",
    "import shutil\n",
    "import numpy as np\n",
    "import tensorflow as tf\n",
    "\n",
    "sys.path.append('mesotheliomaSemiSupervisedClassification/src')\n",
    "\n",
    "from simclr import *\n",
    "from attention_mil import *"
   ]
  },
  {
   "cell_type": "markdown",
   "metadata": {},
   "source": [
    "## Thresholds finetuning and OOD detection"
   ]
  },
  {
   "cell_type": "code",
   "execution_count": 4,
   "metadata": {
    "execution": {
     "iopub.execute_input": "2025-07-14T20:54:21.624382Z",
     "iopub.status.busy": "2025-07-14T20:54:21.624149Z",
     "iopub.status.idle": "2025-07-14T20:54:23.414718Z",
     "shell.execute_reply": "2025-07-14T20:54:23.414180Z",
     "shell.execute_reply.started": "2025-07-14T20:54:21.624359Z"
    },
    "trusted": true
   },
   "outputs": [],
   "source": [
    "backbone_model_dir = '/kaggle/input/camel-backbone-model/tensorflow2/default/1/best_backbone.h5'\n",
    "backbone = tf.keras.models.load_model(backbone_model_dir)"
   ]
  },
  {
   "cell_type": "code",
   "execution_count": 15,
   "metadata": {
    "execution": {
     "iopub.execute_input": "2025-07-14T21:12:54.462252Z",
     "iopub.status.busy": "2025-07-14T21:12:54.461977Z",
     "iopub.status.idle": "2025-07-14T21:17:30.327587Z",
     "shell.execute_reply": "2025-07-14T21:17:30.326936Z",
     "shell.execute_reply.started": "2025-07-14T21:12:54.462231Z"
    },
    "trusted": true
   },
   "outputs": [
    {
     "name": "stderr",
     "output_type": "stream",
     "text": [
      "Processing ood: 100%|██████████| 6/6 [00:00<00:00, 189.80it/s]\n",
      "Processing sarcomatoid: 100%|██████████| 2/2 [00:00<00:00, 252.50it/s]\n",
      "Processing epithelioid: 100%|██████████| 2/2 [00:00<00:00, 124.95it/s]\n",
      "Processing biphasic: 100%|██████████| 2/2 [00:00<00:00, 169.62it/s]\n",
      "Extracting features: 100%|██████████| 12/12 [04:35<00:00, 22.98s/it]\n"
     ]
    }
   ],
   "source": [
    "xpatches_dir = '/kaggle/input/xcamel-dataset'\n",
    "features, labels = extract_features(xpatches_dir, backbone, batch_size=256)\n",
    "dataset = generate_dataset(features, labels, num_classes=3, batch_size=1)"
   ]
  },
  {
   "cell_type": "code",
   "execution_count": 6,
   "metadata": {
    "execution": {
     "iopub.execute_input": "2025-07-14T20:59:42.331246Z",
     "iopub.status.busy": "2025-07-14T20:59:42.331025Z",
     "iopub.status.idle": "2025-07-14T20:59:42.798989Z",
     "shell.execute_reply": "2025-07-14T20:59:42.798183Z",
     "shell.execute_reply.started": "2025-07-14T20:59:42.331229Z"
    },
    "trusted": true
   },
   "outputs": [],
   "source": [
    "attention_model_dir = '/kaggle/input/camel-mil-model/keras/default/1/best_mil.keras'\n",
    "model = tf.keras.models.load_model(attention_model_dir)"
   ]
  },
  {
   "cell_type": "code",
   "execution_count": 7,
   "metadata": {
    "execution": {
     "iopub.execute_input": "2025-07-14T20:59:42.799995Z",
     "iopub.status.busy": "2025-07-14T20:59:42.799763Z",
     "iopub.status.idle": "2025-07-14T20:59:42.807305Z",
     "shell.execute_reply": "2025-07-14T20:59:42.806438Z",
     "shell.execute_reply.started": "2025-07-14T20:59:42.799978Z"
    },
    "trusted": true
   },
   "outputs": [],
   "source": [
    "def hashMapPredOOD(x):\n",
    "    x.astype(np.int64)\n",
    "    labels = ['epithelioid', 'sarcomatoid', 'biphasic', 'ood']\n",
    "    return labels[x]\n",
    "\n",
    "def evaluate_thresholds(Ts, Te, Tb, dataset):\n",
    "    thresholds = {\n",
    "        'sarcomatoid': Ts,\n",
    "        'epithelioid': Te,\n",
    "        'biphasic': Tb\n",
    "    }\n",
    "\n",
    "    correct_rejects = 0\n",
    "    correct_accepts = 0\n",
    "    total_ood = 0\n",
    "    total_id = 0\n",
    "\n",
    "    for x, y in dataset:\n",
    "        pred = model.predict(x, verbose=0)[0]\n",
    "\n",
    "        label_y = hashMapPredOOD(np.array(3) if np.all(y[0] == 0) else np.argmax(y[0]))\n",
    "\n",
    "        if label_y == 'ood': \n",
    "            total_ood += 1\n",
    "            predicted_label = np.argmin(pred)\n",
    "            predicted_class = hashMapPredOOD(predicted_label)\n",
    "\n",
    "            # Rejected if all class probabilities < threshold of predicted class\n",
    "            if np.min(pred) < thresholds.get(predicted_class, 1.0):\n",
    "                correct_rejects += 1\n",
    "\n",
    "        else: \n",
    "            total_id += 1\n",
    "            class_label = hashMapPredOOD(np.argmax(y[0]))\n",
    "            if pred[np.argmax(y[0])] >= thresholds[class_label]:\n",
    "                predicted_class = hashMapPredOOD(np.argmax(pred))\n",
    "                if predicted_class == class_label:\n",
    "                    correct_accepts += 1\n",
    "\n",
    "    # Compute metrics\n",
    "    tar = correct_accepts / total_id if total_id > 0 else 0  # True Accept Rate\n",
    "    trr = correct_rejects / total_ood if total_ood > 0 else 0  # True Reject Rate\n",
    "\n",
    "    return tar, trr"
   ]
  },
  {
   "cell_type": "code",
   "execution_count": 28,
   "metadata": {
    "execution": {
     "iopub.execute_input": "2025-07-14T21:24:45.565232Z",
     "iopub.status.busy": "2025-07-14T21:24:45.564960Z",
     "iopub.status.idle": "2025-07-14T21:24:45.570105Z",
     "shell.execute_reply": "2025-07-14T21:24:45.569383Z",
     "shell.execute_reply.started": "2025-07-14T21:24:45.565213Z"
    },
    "trusted": true
   },
   "outputs": [
    {
     "name": "stdout",
     "output_type": "stream",
     "text": [
      "Best Thresholds: Te = 0.20, Ts = 0.10, Tb = 0.10\n",
      "Best Score (α = 0.7): 90.00%\n"
     ]
    }
   ],
   "source": [
    "best_score = -np.inf\n",
    "alpha = 0.7\n",
    "history = []\n",
    "\n",
    "for Ts in np.linspace(0.01, 0.1, 10): # We notice that Ts is critical for OOD detection \n",
    "    for Te in np.linspace(0.05, 0.2, 10): # Te can be higher that Ts\n",
    "        for Tb in np.linspace(0.05, 0.1, 2): # we noticed that Tb does not influence the ood identification since it is always high\n",
    "            tar, trr = evaluate_thresholds(Ts, Te, Tb, dataset)\n",
    "            score = alpha * trr + (1 - alpha) * tar\n",
    "            history.append(((Te, Ts, Tb), score))\n",
    "            if score >= best_score:\n",
    "                # print(f\"Score: {score}, best triplets = {(Te, Ts, Tb)}\")\n",
    "                best_score = score\n",
    "                best_triplet = (Te, Ts, Tb)\n",
    "\n",
    "print(f\"Best Thresholds: Te = {best_triplet[0]:.2f}, Ts = {best_triplet[1]:.2f}, Tb = {best_triplet[2]:.2f}\")\n",
    "print(f\"Best Score (α = {alpha}): {best_score*100:.2f}%\")"
   ]
  },
  {
   "cell_type": "code",
   "execution_count": 27,
   "metadata": {
    "execution": {
     "iopub.execute_input": "2025-07-14T21:24:17.270622Z",
     "iopub.status.busy": "2025-07-14T21:24:17.270324Z",
     "iopub.status.idle": "2025-07-14T21:24:17.278021Z",
     "shell.execute_reply": "2025-07-14T21:24:17.277260Z",
     "shell.execute_reply.started": "2025-07-14T21:24:17.270595Z"
    },
    "trusted": true
   },
   "outputs": [
    {
     "name": "stdout",
     "output_type": "stream",
     "text": [
      "✅ Prediction = ood\t\t label = ood\t\t Probabilities = [0.58288497 0.06646728 0.35064772]\n",
      "✅ Prediction = epithelioid\t label = epithelioid\t Probabilities = [0.5352522  0.1802229  0.28452483]\n",
      "✅ Prediction = ood\t\t label = ood\t\t Probabilities = [0.580088   0.04424533 0.37566665]\n",
      "✅ Prediction = ood\t\t label = ood\t\t Probabilities = [0.34199208 0.0247878  0.63322014]\n",
      "✅ Prediction = epithelioid\t label = epithelioid\t Probabilities = [0.38952363 0.3545914  0.25588495]\n",
      "✅ Prediction = biphasic\t label = biphasic\t Probabilities = [0.26508182 0.3542476  0.38067052]\n",
      "✅ Prediction = ood\t\t label = ood\t\t Probabilities = [0.44722882 0.02935561 0.5234156 ]\n",
      "❌ Prediction = biphasic\t label = sarcomatoid\t Probabilities = [0.22811866 0.38188115 0.3900002 ]\n",
      "✅ Prediction = biphasic\t label = biphasic\t Probabilities = [0.42026716 0.15324026 0.4264926 ]\n",
      "✅ Prediction = ood\t\t label = ood\t\t Probabilities = [0.39846134 0.03297584 0.56856287]\n",
      "❌ Prediction = epithelioid\t label = sarcomatoid\t Probabilities = [0.42846343 0.27469122 0.29684538]\n",
      "✅ Prediction = ood\t\t label = ood\t\t Probabilities = [0.36510298 0.02409325 0.6108038 ]\n",
      "\n",
      "----------------------\n",
      "Total accuracy: 83.33%\n",
      "----------------------\n",
      "\n",
      "Total miss-classifications per subtype = {'epithelioid': 0, 'sarcomatoid': 2, 'biphasic': 0, 'ood': 0}\n"
     ]
    }
   ],
   "source": [
    "wrong = {\n",
    "    'epithelioid': 0,\n",
    "    'sarcomatoid': 0,\n",
    "    'biphasic': 0,\n",
    "    'ood': 0\n",
    "}\n",
    "\n",
    "def hashMapPred(x):\n",
    "    x.astype(np.int64)\n",
    "    labels = ['epithelioid', 'sarcomatoid', 'biphasic', 'ood']\n",
    "    return labels[x]\n",
    "\n",
    "correct = 0\n",
    "total = 0\n",
    "\n",
    "for x, y in dataset:\n",
    "    pred = model.predict(x, verbose=0)[0]\n",
    "    # label corrente: np.argmax(y[0]) return the index 0 in case of 1, 0, 0; the index 1 in case of 0, 1, 0 and so on\n",
    "    label_y = hashMapPredOOD(np.array(3) if np.all(y[0] == 0) else np.argmax(y[0]))\n",
    "\n",
    "    if np.min(pred) < best_triplet[np.argmin(pred)]:\n",
    "        prediction = 'ood'\n",
    "    else:\n",
    "        prediction = hashMapPred(np.argmax(pred))\n",
    "        \n",
    "    if prediction != label_y:\n",
    "        wrong[label_y] += 1\n",
    "    if prediction == label_y:\n",
    "        correct += 1\n",
    "        # only for output format\n",
    "        if label_y == 'ood':\n",
    "            prediction = f\"{prediction}\\t\"\n",
    "            label_y = f\"{label_y}\\t\"\n",
    "        print(f\"✅ Prediction = {prediction}\\t label = {label_y}\\t Probabilities = {pred}\")\n",
    "    else:\n",
    "        print(f\"❌ Prediction = {prediction}\\t label = {label_y}\\t Probabilities = {pred}\")\n",
    "    total += 1\n",
    "\n",
    "print(f\"\\n----------------------\\nTotal accuracy: {correct/total:.2%}\\n----------------------\\n\")\n",
    "print(f\"Total miss-classifications per subtype = {wrong}\")"
   ]
  }
 ],
 "metadata": {
  "colab": {
   "collapsed_sections": [
    "32abfa0f",
    "6d4c2c52"
   ],
   "provenance": []
  },
  "kaggle": {
   "accelerator": "nvidiaTeslaT4",
   "dataSources": [
    {
     "datasetId": 7796922,
     "sourceId": 12441098,
     "sourceType": "datasetVersion"
    },
    {
     "isSourceIdPinned": false,
     "modelId": 398952,
     "modelInstanceId": 378878,
     "sourceId": 469632,
     "sourceType": "modelInstanceVersion"
    },
    {
     "isSourceIdPinned": false,
     "modelId": 399240,
     "modelInstanceId": 379266,
     "sourceId": 470139,
     "sourceType": "modelInstanceVersion"
    }
   ],
   "dockerImageVersionId": 31041,
   "isGpuEnabled": true,
   "isInternetEnabled": true,
   "language": "python",
   "sourceType": "notebook"
  },
  "kernelspec": {
   "display_name": "Python 3",
   "language": "python",
   "name": "python3"
  },
  "language_info": {
   "codemirror_mode": {
    "name": "ipython",
    "version": 3
   },
   "file_extension": ".py",
   "mimetype": "text/x-python",
   "name": "python",
   "nbconvert_exporter": "python",
   "pygments_lexer": "ipython3",
   "version": "3.11.11"
  }
 },
 "nbformat": 4,
 "nbformat_minor": 4
}
