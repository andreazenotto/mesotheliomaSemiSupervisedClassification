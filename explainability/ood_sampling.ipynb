{
 "cells": [
  {
   "cell_type": "markdown",
   "metadata": {},
   "source": [
    "## Generating OOD samples"
   ]
  },
  {
   "cell_type": "code",
   "execution_count": null,
   "metadata": {},
   "outputs": [],
   "source": [
    "from pathlib import Path\n",
    "import os\n",
    "from PIL import Image\n",
    "import tensorflow as tf"
   ]
  },
  {
   "cell_type": "code",
   "execution_count": null,
   "metadata": {
    "trusted": true
   },
   "outputs": [],
   "source": [
    "def add_gaussian_noise(image, mean=0.0, stddev=30.0):\n",
    "    image = tf.cast(image, tf.float32)  # mantieni valori in [0,255]\n",
    "    noise = tf.random.normal(shape=tf.shape(image), mean=mean, stddev=stddev, dtype=tf.float32)\n",
    "    noisy_image = image + noise\n",
    "    noisy_image = tf.clip_by_value(noisy_image, 0.0, 255.0)\n",
    "    return noisy_image\n",
    "\n",
    "def gaussian_kernel(size=11, sigma=5.0):\n",
    "    x = tf.range(-size // 2 + 1, size // 2 + 1, dtype=tf.float32)\n",
    "    x = tf.reshape(x, [-1, 1])\n",
    "    y = tf.reshape(x, [1, -1])\n",
    "    kernel = tf.exp(-(x**2 + y**2) / (2.0 * sigma**2))\n",
    "    kernel /= tf.reduce_sum(kernel)\n",
    "    kernel = tf.reshape(kernel, [size, size, 1, 1])\n",
    "    return kernel\n",
    "\n",
    "def add_gaussian_blur(image, kernel_size=11, sigma=5.0):\n",
    "    image = tf.cast(image, tf.float32)\n",
    "    image = tf.expand_dims(image, axis=0)  # Add batch dim\n",
    "    kernel = gaussian_kernel(kernel_size, sigma)\n",
    "    channels = tf.shape(image)[-1 ]# Repeat kernel for each channel (depthwise)\n",
    "    kernel = tf.tile(kernel, [1, 1, channels, 1])\n",
    "    blurred = tf.nn.depthwise_conv2d(image, kernel, strides=[1, 1, 1, 1], padding=\"VALID\")\n",
    "    return tf.squeeze(blurred, axis=0)\n",
    "\n",
    "def process_ood(image_path):\n",
    "    image = tf.io.read_file(image_path)\n",
    "    image = tf.image.decode_png(image, channels=3)\n",
    "    image = add_gaussian_blur(add_gaussian_noise(image))\n",
    "    return tf.image.resize(image, [224, 224])"
   ]
  },
  {
   "cell_type": "code",
   "execution_count": null,
   "metadata": {
    "trusted": true
   },
   "outputs": [],
   "source": [
    "root_dir = \"/kaggle/input/camel-inference-dataset\"\n",
    "save_dir = \"/kaggle/working/data\"\n",
    "os.makedirs(save_dir, exist_ok=True)\n",
    "\n",
    "ood_list = []\n",
    "keep_list = []\n",
    "\n",
    "count_b = 0\n",
    "count_e = 0\n",
    "count_s = 0\n",
    "\n",
    "for subtype in os.listdir(root_dir):  # biphasic, epithelioid\n",
    "    subtype_path = os.path.join(root_dir, subtype)\n",
    "\n",
    "    for patient_id in sorted(os.listdir(subtype_path)):  # sorted per avere ordine stabile\n",
    "        patient_folder = os.path.join(subtype_path, patient_id)\n",
    "\n",
    "        label = subtype.split(\"_\")[1]\n",
    "        \n",
    "        if label == 'biphasic' and count_b < 2:\n",
    "            target_subdir = \"patches_ood\"\n",
    "            count_b += 1\n",
    "            ood_list.append(patient_id)\n",
    "        elif label == 'epithelioid' and count_e < 2:\n",
    "            target_subdir = \"patches_ood\"\n",
    "            count_e += 1\n",
    "            ood_list.append(patient_id)\n",
    "        elif label == 'sarcomatoid' and count_s < 2:\n",
    "            target_subdir = \"patches_ood\"\n",
    "            count_s += 1\n",
    "            ood_list.append(patient_id)\n",
    "        else:\n",
    "            continue\n",
    "\n",
    "        target_folder = os.path.join(save_dir, target_subdir, patient_id)\n",
    "        os.makedirs(target_folder, exist_ok=True)\n",
    "\n",
    "        for patch_file in os.listdir(patient_folder):\n",
    "            if patch_file.endswith(\".png\"):\n",
    "                patch_path = os.path.join(patient_folder, patch_file)\n",
    "\n",
    "                if target_subdir == \"patches_ood\":\n",
    "                    tensor = process_ood(patch_path)  # Definisci questa funzione\n",
    "                    if tensor.dtype.is_floating:\n",
    "                        tensor = tf.clip_by_value(tensor, 0.0, 255.0)\n",
    "                        tensor = tf.cast(tensor, tf.uint8)\n",
    "                    patch = Image.fromarray(tensor.numpy())\n",
    "                else:\n",
    "                    patch = Image.open(patch_path)\n",
    "\n",
    "                patch.save(os.path.join(target_folder, patch_file))\n",
    "\n",
    "print(\"OOD WSI:\", ood_list)\n",
    "print(\"Kept WSI:\", keep_list)"
   ]
  },
  {
   "cell_type": "code",
   "execution_count": null,
   "metadata": {
    "trusted": true
   },
   "outputs": [],
   "source": [
    "from pathlib import Path\n",
    "import os\n",
    "from PIL import Image\n",
    "import tensorflow as tf\n",
    "\n",
    "root_dir = \"/kaggle/input/camel-dataset\"\n",
    "save_dir = \"/kaggle/working/data\"\n",
    "os.makedirs(save_dir, exist_ok=True)\n",
    "\n",
    "ood_list = []\n",
    "keep_list = []\n",
    "\n",
    "count_s = 0\n",
    "\n",
    "for subtype in os.listdir(root_dir):  # biphasic, epithelioid\n",
    "    subtype_path = os.path.join(root_dir, subtype)\n",
    "\n",
    "    for patient_id in sorted(os.listdir(subtype_path)):  # sorted per avere ordine stabile\n",
    "        patient_folder = os.path.join(subtype_path, patient_id)\n",
    "\n",
    "        label = subtype.split(\"_\")[1]\n",
    "\n",
    "        if label == 'biphasic':\n",
    "            continue\n",
    "        elif label == 'epithelioid':\n",
    "            continue\n",
    "        elif label == 'sarcomatoid' and count_s < 2:\n",
    "            target_subdir = \"patches_ood\"\n",
    "            count_s += 1\n",
    "            ood_list.append(patient_id)\n",
    "        elif label == 'sarcomatoid' and count_s >= 2 and count < 4:\n",
    "            target_subdir = subtype\n",
    "            keep_list.append(patient_id)\n",
    "        else:\n",
    "            continue\n",
    "\n",
    "        target_folder = os.path.join(save_dir, target_subdir, patient_id)\n",
    "        os.makedirs(target_folder, exist_ok=True)\n",
    "\n",
    "        for patch_file in os.listdir(patient_folder):\n",
    "            if patch_file.endswith(\".png\"):\n",
    "                patch_path = os.path.join(patient_folder, patch_file)\n",
    "\n",
    "                if target_subdir == \"patches_ood\":\n",
    "                    tensor = process_ood(patch_path)  # Definisci questa funzione\n",
    "                    if tensor.dtype.is_floating:\n",
    "                        tensor = tf.clip_by_value(tensor, 0.0, 255.0)\n",
    "                        tensor = tf.cast(tensor, tf.uint8)\n",
    "                    patch = Image.fromarray(tensor.numpy())\n",
    "                else:\n",
    "                    patch = Image.open(patch_path)\n",
    "\n",
    "                patch.save(os.path.join(target_folder, patch_file))\n",
    "\n",
    "print(\"OOD WSI:\", ood_list)\n",
    "print(\"Kept WSI:\", keep_list)"
   ]
  }
 ],
 "metadata": {
  "colab": {
   "collapsed_sections": [
    "32abfa0f",
    "6d4c2c52"
   ],
   "provenance": []
  },
  "kaggle": {
   "accelerator": "nvidiaTeslaT4",
   "dataSources": [
    {
     "datasetId": 7442459,
     "sourceId": 12401004,
     "sourceType": "datasetVersion"
    },
    {
     "datasetId": 7796456,
     "sourceId": 12401242,
     "sourceType": "datasetVersion"
    }
   ],
   "dockerImageVersionId": 31040,
   "isGpuEnabled": true,
   "isInternetEnabled": true,
   "language": "python",
   "sourceType": "notebook"
  },
  "kernelspec": {
   "display_name": "Python 3",
   "language": "python",
   "name": "python3"
  },
  "language_info": {
   "codemirror_mode": {
    "name": "ipython",
    "version": 3
   },
   "file_extension": ".py",
   "mimetype": "text/x-python",
   "name": "python",
   "nbconvert_exporter": "python",
   "pygments_lexer": "ipython3",
   "version": "3.11.11"
  }
 },
 "nbformat": 4,
 "nbformat_minor": 4
}
