{
 "cells": [
  {
   "cell_type": "code",
   "execution_count": null,
   "metadata": {
    "execution": {
     "iopub.execute_input": "2025-07-14T21:43:06.418195Z",
     "iopub.status.busy": "2025-07-14T21:43:06.417433Z",
     "iopub.status.idle": "2025-07-14T21:43:07.026927Z",
     "shell.execute_reply": "2025-07-14T21:43:07.025861Z",
     "shell.execute_reply.started": "2025-07-14T21:43:06.418169Z"
    },
    "trusted": true
   },
   "outputs": [],
   "source": [
    "!git clone https://github.com/andreazenotto/mesotheliomaSemiSupervisedClassification.git"
   ]
  },
  {
   "cell_type": "code",
   "execution_count": null,
   "metadata": {
    "execution": {
     "iopub.execute_input": "2025-07-14T21:43:07.245199Z",
     "iopub.status.busy": "2025-07-14T21:43:07.244865Z",
     "iopub.status.idle": "2025-07-14T21:43:22.731513Z",
     "shell.execute_reply": "2025-07-14T21:43:22.730847Z",
     "shell.execute_reply.started": "2025-07-14T21:43:07.245170Z"
    },
    "id": "ce9e789b",
    "trusted": true
   },
   "outputs": [],
   "source": [
    "import os\n",
    "from tqdm import tqdm\n",
    "import sys\n",
    "import shutil\n",
    "import numpy as np\n",
    "import tensorflow as tf\n",
    "\n",
    "sys.path.append('mesotheliomaSemiSupervisedClassification/src')\n",
    "\n",
    "from simclr import *\n",
    "from attention_mil import *"
   ]
  },
  {
   "cell_type": "markdown",
   "metadata": {},
   "source": [
    "## Inference\n",
    "We evaluate the performances of our proposal model on the <em>**camel-inference-dataset**</em>\n",
    "\n",
    "This dataset is made of 8 WSI: 4 epithelioid and 4 biphasic, used for testing purpouse"
   ]
  },
  {
   "cell_type": "code",
   "execution_count": 3,
   "metadata": {
    "execution": {
     "iopub.execute_input": "2025-07-14T21:43:26.294252Z",
     "iopub.status.busy": "2025-07-14T21:43:26.293440Z",
     "iopub.status.idle": "2025-07-14T21:43:26.298347Z",
     "shell.execute_reply": "2025-07-14T21:43:26.297484Z",
     "shell.execute_reply.started": "2025-07-14T21:43:26.294224Z"
    },
    "trusted": true
   },
   "outputs": [],
   "source": [
    "# Evaluation Dataset\n",
    "test_patches_dir = \"/kaggle/input/camel-inference-dataset\""
   ]
  },
  {
   "cell_type": "code",
   "execution_count": null,
   "metadata": {
    "execution": {
     "iopub.execute_input": "2025-07-14T21:43:27.498106Z",
     "iopub.status.busy": "2025-07-14T21:43:27.497784Z",
     "iopub.status.idle": "2025-07-14T21:43:32.651026Z",
     "shell.execute_reply": "2025-07-14T21:43:32.650325Z",
     "shell.execute_reply.started": "2025-07-14T21:43:27.498087Z"
    },
    "trusted": true
   },
   "outputs": [],
   "source": [
    "backbone_model_dir = '/kaggle/input/camel-backbone-model/tensorflow2/default/1/best_backbone.h5'\n",
    "backbone = tf.keras.models.load_model(backbone_model_dir)"
   ]
  },
  {
   "cell_type": "code",
   "execution_count": 6,
   "metadata": {
    "execution": {
     "iopub.execute_input": "2025-07-14T21:43:52.325212Z",
     "iopub.status.busy": "2025-07-14T21:43:52.324805Z",
     "iopub.status.idle": "2025-07-14T21:48:00.914880Z",
     "shell.execute_reply": "2025-07-14T21:48:00.913968Z",
     "shell.execute_reply.started": "2025-07-14T21:43:52.325187Z"
    },
    "trusted": true
   },
   "outputs": [
    {
     "name": "stderr",
     "output_type": "stream",
     "text": [
      "Processing epithelioid: 100%|██████████| 4/4 [00:00<00:00, 114.24it/s]\n",
      "Processing biphasic: 100%|██████████| 4/4 [00:00<00:00, 157.28it/s]\n",
      "Extracting features: 100%|██████████| 8/8 [04:07<00:00, 30.90s/it]\n"
     ]
    }
   ],
   "source": [
    "featuresTest, labelsTest = extract_features(test_patches_dir, backbone, batch_size=256)\n",
    "datasetTest = generate_dataset(featuresTest, labelsTest, num_classes=3, batch_size=1)"
   ]
  },
  {
   "cell_type": "code",
   "execution_count": 7,
   "metadata": {
    "execution": {
     "iopub.execute_input": "2025-07-14T21:48:00.916563Z",
     "iopub.status.busy": "2025-07-14T21:48:00.916292Z",
     "iopub.status.idle": "2025-07-14T21:48:01.473485Z",
     "shell.execute_reply": "2025-07-14T21:48:01.472849Z",
     "shell.execute_reply.started": "2025-07-14T21:48:00.916544Z"
    },
    "trusted": true
   },
   "outputs": [],
   "source": [
    "attention_model_dir = \"/kaggle/input/camel-mil-model/keras/default/1/best_mil.keras\"\n",
    "model = tf.keras.models.load_model(attention_model_dir, custom_objects = {'MultiHeadAttentionMIL': MultiHeadAttentionMIL})"
   ]
  },
  {
   "cell_type": "code",
   "execution_count": 14,
   "metadata": {
    "execution": {
     "iopub.execute_input": "2025-07-14T21:50:46.165255Z",
     "iopub.status.busy": "2025-07-14T21:50:46.164990Z",
     "iopub.status.idle": "2025-07-14T21:50:46.172996Z",
     "shell.execute_reply": "2025-07-14T21:50:46.172144Z",
     "shell.execute_reply.started": "2025-07-14T21:50:46.165237Z"
    },
    "trusted": true
   },
   "outputs": [
    {
     "name": "stdout",
     "output_type": "stream",
     "text": [
      "✅ Prediction = epithelioid\t label = epithelioid\t Probabilities = [0.38952363 0.3545914  0.25588495]\n",
      "✅ Prediction = biphasic\t label = biphasic\t Probabilities = [0.3628385  0.2351986  0.40196294]\n",
      "✅ Prediction = epithelioid\t label = epithelioid\t Probabilities = [0.50413245 0.19471645 0.30115104]\n",
      "✅ Prediction = biphasic\t label = biphasic\t Probabilities = [0.26508182 0.3542476  0.38067052]\n",
      "❌ Prediction = sarcomatoid\t label = epithelioid\t Probabilities = [0.28269762 0.36342648 0.3538759 ]\n",
      "✅ Prediction = epithelioid\t label = epithelioid\t Probabilities = [0.5352522  0.1802229  0.28452483]\n",
      "✅ Prediction = biphasic\t label = biphasic\t Probabilities = [0.33315933 0.25037387 0.41646683]\n",
      "✅ Prediction = biphasic\t label = biphasic\t Probabilities = [0.42026716 0.15324026 0.4264926 ]\n",
      "\n",
      "----------------------\n",
      "Total accuracy: 87.50%\n",
      "----------------------\n",
      "\n",
      "Total miss-classifications per subtype = {'epithelioid': 1, 'sarcomatoid': 0, 'biphasic': 0}\n"
     ]
    }
   ],
   "source": [
    "wrong = {\n",
    "    'epithelioid': 0,\n",
    "    'sarcomatoid': 0,\n",
    "    'biphasic': 0\n",
    "}\n",
    "\n",
    "def hashMapPred(x):\n",
    "    x.astype(np.int64)\n",
    "    labels = ['epithelioid', 'sarcomatoid', 'biphasic']\n",
    "    return labels[x]\n",
    "\n",
    "correct = 0\n",
    "total = 0\n",
    "\n",
    "for x, y in datasetTest:\n",
    "    pred = mhaMIL.predict(x, verbose=0)[0]\n",
    "    # label corrente: np.argmax(y[0]) return the index 0 in case of 1, 0, 0; the index 1 in case of 0, 1, 0 and so on\n",
    "    label_y = hashMapPred(np.argmax(y[0]))\n",
    "\n",
    "    prediction = hashMapPred(np.argmax(pred))\n",
    "        \n",
    "    if prediction != label_y:\n",
    "        wrong[label_y] += 1\n",
    "    if prediction == label_y:\n",
    "        correct += 1\n",
    "        print(f\"✅ Prediction = {prediction}\\t label = {label_y}\\t Probabilities = {pred}\")\n",
    "    else:\n",
    "        print(f\"❌ Prediction = {prediction}\\t label = {label_y}\\t Probabilities = {pred}\")\n",
    "    total += 1\n",
    "\n",
    "print(f\"\\n-------------------\\nTotal accuracy: {correct/total:.2%}\\n-------------------\\n\")\n",
    "print(f\"Total miss-classifications per subtype = {wrong}\")"
   ]
  }
 ],
 "metadata": {
  "colab": {
   "collapsed_sections": [
    "32abfa0f",
    "6d4c2c52"
   ],
   "provenance": []
  },
  "kaggle": {
   "accelerator": "nvidiaTeslaT4",
   "dataSources": [
    {
     "datasetId": 7796456,
     "sourceId": 12401242,
     "sourceType": "datasetVersion"
    },
    {
     "isSourceIdPinned": false,
     "modelId": 398952,
     "modelInstanceId": 378878,
     "sourceId": 469632,
     "sourceType": "modelInstanceVersion"
    },
    {
     "isSourceIdPinned": false,
     "modelId": 399240,
     "modelInstanceId": 379266,
     "sourceId": 470139,
     "sourceType": "modelInstanceVersion"
    }
   ],
   "dockerImageVersionId": 31090,
   "isGpuEnabled": true,
   "isInternetEnabled": true,
   "language": "python",
   "sourceType": "notebook"
  },
  "kernelspec": {
   "display_name": "Python 3",
   "language": "python",
   "name": "python3"
  },
  "language_info": {
   "codemirror_mode": {
    "name": "ipython",
    "version": 3
   },
   "file_extension": ".py",
   "mimetype": "text/x-python",
   "name": "python",
   "nbconvert_exporter": "python",
   "pygments_lexer": "ipython3",
   "version": "3.11.13"
  }
 },
 "nbformat": 4,
 "nbformat_minor": 4
}
